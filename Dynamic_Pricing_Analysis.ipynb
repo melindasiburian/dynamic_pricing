{
  "cells": [
    {
      "cell_type": "markdown",
      "metadata": {},
      "source": [
        "# \ud83d\udcc8 Dynamic Pricing Analysis\n",
        "\n",
        "Analisis ini menggunakan dataset terintegrasi yang dibangun pada notebook **Copy_of_dataset_making_dp**. \n",
        "Dataset tersebut menggabungkan informasi harga dasar, kompetisi, volume permintaan, data wisatawan, event bulanan, serta indikator cuaca untuk setiap kategori produk wisata."
      ]
    },
    {
      "cell_type": "markdown",
      "metadata": {},
      "source": [
        "## 1. \ud83d\udee0\ufe0f Environment Setup dan Import Library\n",
        "\n",
        "Menyiapkan library yang dibutuhkan untuk eksplorasi data, rekayasa fitur, serta pemodelan permintaan."
      ]
    },
    {
      "cell_type": "code",
      "execution_count": null,
      "metadata": {},
      "outputs": [],
      "source": [
        "import pandas as pd\n",
        "import numpy as np\n",
        "import matplotlib.pyplot as plt\n",
        "import seaborn as sns\n",
        "from pathlib import Path\n",
        "\n",
        "from sklearn.model_selection import train_test_split\n",
        "from sklearn.preprocessing import OneHotEncoder\n",
        "from sklearn.compose import ColumnTransformer\n",
        "from sklearn.pipeline import Pipeline\n",
        "from sklearn.metrics import mean_absolute_error, mean_squared_error, r2_score\n",
        "from sklearn.ensemble import RandomForestRegressor\n",
        "\n",
        "sns.set_style('whitegrid')\n",
        "plt.rcParams['figure.figsize'] = (12, 6)\n",
        "np.random.seed(42)"
      ]
    },
    {
      "cell_type": "markdown",
      "metadata": {},
      "source": [
        "## 2. \ud83d\udce5 Muat Dataset Integrasi\n",
        "\n",
        "Dataset disimpan pada file `data/dynamic_pricing_dataset.csv` dan memiliki kolom:\n",
        "`date`, `base_price_idr`, `category`, `competitive_price`, `competitor_count`, `category_quantity`, `total_visitors`, `monthly_event_days`, `temperature_celsius`, `prcp_mm`."
      ]
    },
    {
      "cell_type": "code",
      "execution_count": null,
      "metadata": {},
      "outputs": [],
      "source": [
        "data_path = Path('data/dynamic_pricing_dataset.csv')\n",
        "if not data_path.exists():\n",
        "    raise FileNotFoundError('Dataset dynamic_pricing_dataset.csv tidak ditemukan. Pastikan file dihasilkan dari proses integrasi data.')\n",
        "\n",
        "df = pd.read_csv(data_path, parse_dates=['date'])\n",
        "df['category'] = df['category'].astype('category')\n",
        "df = df.sort_values('date').reset_index(drop=True)\n",
        "\n",
        "display(df.head())\n",
        "display(df.describe(include='all').transpose())\n",
        "print(df.info())"
      ]
    },
    {
      "cell_type": "markdown",
      "metadata": {},
      "source": [
        "## 3. \ud83d\udcca Eksplorasi Permintaan & Harga\n",
        "\n",
        "Melihat dinamika volume penjualan (`category_quantity`) dan perbandingan harga dasar dengan harga kompetitor."
      ]
    },
    {
      "cell_type": "code",
      "execution_count": null,
      "metadata": {},
      "outputs": [],
      "source": [
        "df['year'] = df['date'].dt.year\n",
        "df['month'] = df['date'].dt.month\n",
        "df['price_gap'] = df['base_price_idr'] - df['competitive_price']\n",
        "\n",
        "monthly_qty = (\n",
        "    df.groupby(['date', 'category'])\n",
        "      ['category_quantity']\n",
        "      .sum()\n",
        "      .reset_index()\n",
        ")\n",
        "\n",
        "plt.figure(figsize=(14, 6))\n",
        "sns.lineplot(data=monthly_qty, x='date', y='category_quantity', hue='category', marker='o')\n",
        "plt.title('Tren Permintaan Bulanan per Kategori')\n",
        "plt.xlabel('Tanggal')\n",
        "plt.ylabel('Unit Terjual')\n",
        "plt.legend(title='Kategori')\n",
        "plt.show()\n",
        "\n",
        "plt.figure(figsize=(12, 5))\n",
        "sns.boxplot(data=df, x='category', y='price_gap', palette='viridis')\n",
        "plt.title('Sebaran Gap Harga vs Kompetitor')\n",
        "plt.xlabel('Kategori Produk')\n",
        "plt.ylabel('Base Price - Competitor Price (IDR)')\n",
        "plt.show()"
      ]
    },
    {
      "cell_type": "markdown",
      "metadata": {},
      "source": [
        "## 4. \ud83d\udd27 Rekayasa Fitur\n",
        "\n",
        "Membangun fitur tambahan untuk menangkap faktor musiman, tekanan kompetisi, serta dampak cuaca/event."
      ]
    },
    {
      "cell_type": "code",
      "execution_count": null,
      "metadata": {},
      "outputs": [],
      "source": [
        "df['month_sin'] = np.sin(2 * np.pi * df['month'] / 12)\n",
        "df['month_cos'] = np.cos(2 * np.pi * df['month'] / 12)\n",
        "df['price_ratio'] = df['base_price_idr'] / df['competitive_price']\n",
        "df['event_intensity'] = df['monthly_event_days'] / df['monthly_event_days'].max()\n",
        "df['visitor_index'] = df['total_visitors'] / df['total_visitors'].rolling(window=12, min_periods=1).mean()\n",
        "df['weather_index'] = (df['temperature_celsius'] / df['temperature_celsius'].rolling(window=12, min_periods=1).mean()) * (df['prcp_mm'] / df['prcp_mm'].rolling(window=12, min_periods=1).mean())\n",
        "\n",
        "feature_cols = [\n",
        "    'base_price_idr', 'competitive_price', 'price_gap', 'price_ratio',\n",
        "    'competitor_count', 'total_visitors', 'monthly_event_days',\n",
        "    'temperature_celsius', 'prcp_mm', 'month_sin', 'month_cos',\n",
        "    'event_intensity', 'visitor_index', 'weather_index'\n",
        "]\n",
        "target_col = 'category_quantity'\n",
        "\n",
        "model_df = df[['date', 'category', target_col] + feature_cols].dropna().reset_index(drop=True)\n",
        "model_df.head()"
      ]
    },
    {
      "cell_type": "markdown",
      "metadata": {},
      "source": [
        "## 5. \ud83e\udd16 Pemodelan Permintaan\n",
        "\n",
        "Menggunakan **RandomForestRegressor** untuk memprediksi `category_quantity` berdasarkan fitur yang tersedia."
      ]
    },
    {
      "cell_type": "code",
      "execution_count": null,
      "metadata": {},
      "outputs": [],
      "source": [
        "X = model_df[['category'] + feature_cols]\n",
        "y = model_df[target_col]\n",
        "\n",
        "categorical_features = ['category']\n",
        "numeric_features = [col for col in feature_cols]\n",
        "\n",
        "preprocess = ColumnTransformer(\n",
        "    transformers=[\n",
        "        ('cat', OneHotEncoder(drop='first'), categorical_features)\n",
        "    ],\n",
        "    remainder='passthrough'\n",
        ")\n",
        "\n",
        "model = Pipeline(steps=[\n",
        "    ('prep', preprocess),\n",
        "    ('regressor', RandomForestRegressor(n_estimators=300, random_state=42))\n",
        "])\n",
        "\n",
        "X_train, X_test, y_train, y_test = train_test_split(\n",
        "    X, y, test_size=0.2, random_state=42, shuffle=True\n",
        ")\n",
        "\n",
        "model.fit(X_train, y_train)\n",
        "y_pred = model.predict(X_test)\n",
        "\n",
        "mae = mean_absolute_error(y_test, y_pred)\n",
        "rmse = mean_squared_error(y_test, y_pred, squared=False)\n",
        "r2 = r2_score(y_test, y_pred)\n",
        "\n",
        "print(f'MAE : {mae:,.2f}')\n",
        "print(f'RMSE: {rmse:,.2f}')\n",
        "print(f'R^2 : {r2:.3f}')\n",
        "\n",
        "feature_names = model.named_steps['prep'].get_feature_names_out(categorical_features + numeric_features)\n",
        "importances = model.named_steps['regressor'].feature_importances_\n",
        "feat_imp = (\n",
        "    pd.DataFrame({'feature': feature_names, 'importance': importances})\n",
        "      .sort_values('importance', ascending=False)\n",
        ")\n",
        "\n",
        "plt.figure(figsize=(10, 6))\n",
        "sns.barplot(data=feat_imp.head(15), x='importance', y='feature', palette='crest')\n",
        "plt.title('Top 15 Feature Importance - Random Forest')\n",
        "plt.xlabel('Importance')\n",
        "plt.ylabel('Feature')\n",
        "plt.show()"
      ]
    },
    {
      "cell_type": "markdown",
      "metadata": {},
      "source": [
        "## 6. \ud83d\udca1 Simulasi Penyesuaian Harga\n",
        "\n",
        "Mengukur dampak potensial terhadap permintaan dan pendapatan ketika harga dinaikkan/dikurangi sebesar \u00b15% dan \u00b110%."
      ]
    },
    {
      "cell_type": "code",
      "execution_count": null,
      "metadata": {},
      "outputs": [],
      "source": [
        "latest_period = model_df['date'].max()\n",
        "latest_data = model_df[model_df['date'] == latest_period].copy()\n",
        "scenarios = []\n",
        "for adj in [-0.10, -0.05, 0.0, 0.05, 0.10]:\n",
        "    scenario = latest_data.copy()\n",
        "    scenario['price_adjustment'] = adj\n",
        "    scenario['base_price_idr'] = scenario['base_price_idr'] * (1 + adj)\n",
        "    scenario['price_gap'] = scenario['base_price_idr'] - scenario['competitive_price']\n",
        "    scenario['price_ratio'] = scenario['base_price_idr'] / scenario['competitive_price']\n",
        "    X_scenario = scenario[['category'] + feature_cols]\n",
        "    scenario['predicted_quantity'] = model.predict(X_scenario)\n",
        "    scenario['projected_revenue'] = scenario['predicted_quantity'] * scenario['base_price_idr']\n",
        "    scenario['adjustment_pct'] = adj * 100\n",
        "    scenarios.append(scenario[['category', 'adjustment_pct', 'base_price_idr', 'predicted_quantity', 'projected_revenue']])\n",
        "\n",
        "scenario_df = pd.concat(scenarios, ignore_index=True)\n",
        "pivot_rev = scenario_df.pivot_table(\n",
        "    index='category', columns='adjustment_pct', values='projected_revenue'\n",
        ")\n",
        "\n",
        "display(scenario_df.head(12))\n",
        "display(pivot_rev)\n",
        "\n",
        "plt.figure(figsize=(10, 6))\n",
        "for category, group in scenario_df.groupby('category'):\n",
        "    plt.plot(group['adjustment_pct'], group['projected_revenue'] / 1e9, marker='o', label=category)\n",
        "plt.title('Simulasi Pendapatan vs Penyesuaian Harga (Latest Period)')\n",
        "plt.xlabel('Penyesuaian Harga (%)')\n",
        "plt.ylabel('Pendapatan (Miliar IDR)')\n",
        "plt.legend()\n",
        "plt.axvline(0, color='black', linestyle='--', alpha=0.5)\n",
        "plt.show()"
      ]
    },
    {
      "cell_type": "markdown",
      "metadata": {},
      "source": [
        "## 7. \ud83d\udccb Ringkasan Insight\n",
        "\n",
        "Merangkum temuan kunci dari analisis dan simulasi untuk rekomendasi strategis."
      ]
    },
    {
      "cell_type": "code",
      "execution_count": null,
      "metadata": {},
      "outputs": [],
      "source": [
        "start_period = df['date'].min().date()\n",
        "end_period = df['date'].max().date()\n",
        "insight = {\n",
        "    'periode_data': '{} s.d. {}'.format(start_period, end_period),\n",
        "    'jumlah_observasi': int(len(df)),\n",
        "    'kategori': df['category'].cat.categories.tolist(),\n",
        "    'metrik_model': {\n",
        "        'MAE': round(mae, 2),\n",
        "        'RMSE': round(rmse, 2),\n",
        "        'R2': round(r2, 3)\n",
        "    }\n",
        "}\n",
        "\n",
        "print('Ringkasan Insight:')\n",
        "for key, value in insight.items():\n",
        "    print(f'- {key}: {value}')\n",
        "\n",
        "print('\nRekomendasi:')\n",
        "print('* Fokuskan promosi pada bulan dengan event tinggi (Juni-Agustus, Desember) karena berdampak positif pada permintaan.')\n",
        "print('* Monitor gap harga terhadap kompetitor; kategori dengan gap positif besar menunjukkan peluang optimasi pricing.')\n",
        "print('* Gunakan simulasi penyesuaian harga untuk menetapkan target revenue realistis per kategori.')\n",
        "print('* Jadwalkan pembaruan model tiap kuartal untuk menangkap perubahan tren wisatawan dan cuaca.')"
      ]
    }
  ],
  "metadata": {
    "kernelspec": {
      "name": "python3",
      "display_name": "Python 3",
      "language": "python"
    },
    "language_info": {
      "name": "python",
      "version": "3.10",
      "mimetype": "text/x-python",
      "codemirror_mode": {
        "name": "ipython",
        "version": 3
      },
      "nbconvert_exporter": "python",
      "pygments_lexer": "ipython3",
      "file_extension": ".py"
    }
  },
  "nbformat": 4,
  "nbformat_minor": 5
}